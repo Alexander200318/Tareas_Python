{
 "cells": [
  {
   "cell_type": "markdown",
   "id": "9c8a3592",
   "metadata": {},
   "source": [
    "# 📘 Curso de Fundamentos de Python\n",
    "## Ejercicios sobre Listas"
   ]
  },
  {
   "cell_type": "markdown",
   "id": "2adb2e11",
   "metadata": {},
   "source": [
    "### Ejercicio 1\n",
    "Crear una lista de números del 1 al 5"
   ]
  },
  {
   "cell_type": "code",
   "execution_count": 6,
   "id": "925ba314",
   "metadata": {},
   "outputs": [
    {
     "data": {
      "text/plain": [
       "[1, 2, 3, 4, 5]"
      ]
     },
     "execution_count": 6,
     "metadata": {},
     "output_type": "execute_result"
    }
   ],
   "source": [
    "# Escribe tu solución aquí\n",
    "numeros = [1,2,3,4,5]\n",
    "numeros\n"
   ]
  },
  {
   "cell_type": "markdown",
   "id": "362808e1",
   "metadata": {},
   "source": [
    "### Ejercicio 2\n",
    "Accede al elemento 3 de la lista"
   ]
  },
  {
   "cell_type": "code",
   "execution_count": 7,
   "id": "2319a142",
   "metadata": {},
   "outputs": [
    {
     "data": {
      "text/plain": [
       "3"
      ]
     },
     "execution_count": 7,
     "metadata": {},
     "output_type": "execute_result"
    }
   ],
   "source": [
    "# Escribe tu solución aquí\n",
    "numeros[2]\n"
   ]
  },
  {
   "cell_type": "markdown",
   "id": "313eacda",
   "metadata": {},
   "source": [
    "### Ejercicio 3\n",
    "Modifica un elemento de la lista"
   ]
  },
  {
   "cell_type": "code",
   "execution_count": 8,
   "id": "0cfebfd2",
   "metadata": {},
   "outputs": [
    {
     "data": {
      "text/plain": [
       "[1, 2, 22, 4, 5]"
      ]
     },
     "execution_count": 8,
     "metadata": {},
     "output_type": "execute_result"
    }
   ],
   "source": [
    "# Escribe tu solución aquí\n",
    "numeros[2] = 22\n",
    "numeros"
   ]
  },
  {
   "cell_type": "markdown",
   "id": "be603b72",
   "metadata": {},
   "source": [
    "### Ejercicio 4\n",
    "Agrega el elemento 9 al final de la lista"
   ]
  },
  {
   "cell_type": "code",
   "execution_count": 9,
   "id": "cb51d97c",
   "metadata": {},
   "outputs": [
    {
     "name": "stdout",
     "output_type": "stream",
     "text": [
      "[1, 2, 3, 4, 5, 9]\n"
     ]
    }
   ],
   "source": [
    "# Escribe tu solución aquí\n",
    "mi_lista = [1, 2, 3, 4, 5]\n",
    "mi_lista.append(9)\n",
    "\n",
    "print(mi_lista) "
   ]
  },
  {
   "cell_type": "markdown",
   "id": "bb807351",
   "metadata": {},
   "source": [
    "### Ejercicio 5\n",
    "Eliminar el elemento 2 de la lista"
   ]
  },
  {
   "cell_type": "code",
   "execution_count": 10,
   "id": "1ac1124c",
   "metadata": {},
   "outputs": [
    {
     "name": "stdout",
     "output_type": "stream",
     "text": [
      "[1, 3, 4, 2, 5]\n"
     ]
    }
   ],
   "source": [
    "# Escribe tu solución aquí\n",
    "mi_lista = [1, 2, 3, 4, 2, 5]\n",
    "mi_lista.remove(2)  \n",
    "\n",
    "print(mi_lista) "
   ]
  },
  {
   "cell_type": "markdown",
   "id": "13f8eabe",
   "metadata": {},
   "source": [
    "### Ejercicio 6\n",
    "Recorrer una lista con un bucle for"
   ]
  },
  {
   "cell_type": "code",
   "execution_count": 11,
   "id": "3b159a5b",
   "metadata": {},
   "outputs": [
    {
     "name": "stdout",
     "output_type": "stream",
     "text": [
      "1\n",
      "3\n",
      "4\n",
      "2\n",
      "5\n"
     ]
    }
   ],
   "source": [
    "# Escribe tu solución aquí\n",
    "for e in mi_lista:\n",
    "    print(e)"
   ]
  },
  {
   "cell_type": "markdown",
   "id": "ddb853a4",
   "metadata": {},
   "source": [
    "### Ejercicio 7\n",
    "Ordenar una lista"
   ]
  },
  {
   "cell_type": "code",
   "execution_count": 12,
   "id": "e7577824",
   "metadata": {},
   "outputs": [
    {
     "data": {
      "text/plain": [
       "[1, 3, 4, 2, 5]"
      ]
     },
     "execution_count": 12,
     "metadata": {},
     "output_type": "execute_result"
    }
   ],
   "source": [
    "# Escribe tu solución aquí\n",
    "mi_lista\n"
   ]
  },
  {
   "cell_type": "markdown",
   "id": "d4b00f9b",
   "metadata": {},
   "source": [
    "### Ejercicio 8\n",
    "Obtener la longitud de una lista"
   ]
  },
  {
   "cell_type": "code",
   "execution_count": 13,
   "id": "edbccdd2",
   "metadata": {},
   "outputs": [
    {
     "data": {
      "text/plain": [
       "5"
      ]
     },
     "execution_count": 13,
     "metadata": {},
     "output_type": "execute_result"
    }
   ],
   "source": [
    "# Escribe tu solución aquí\n",
    "len(mi_lista)\n"
   ]
  },
  {
   "cell_type": "markdown",
   "id": "23f06feb",
   "metadata": {},
   "source": [
    "### Ejercicio 9\n",
    "Comprobar si un elemento está en la lista"
   ]
  },
  {
   "cell_type": "code",
   "execution_count": 14,
   "id": "5871d43e",
   "metadata": {},
   "outputs": [
    {
     "data": {
      "text/plain": [
       "False"
      ]
     },
     "execution_count": 14,
     "metadata": {},
     "output_type": "execute_result"
    }
   ],
   "source": [
    "# Escribe tu solución aquí\n",
    "'t' in mi_lista"
   ]
  },
  {
   "cell_type": "markdown",
   "id": "14480faf",
   "metadata": {},
   "source": [
    "### Ejercicio 10\n",
    "Presentar el número mínimo"
   ]
  },
  {
   "cell_type": "code",
   "execution_count": 15,
   "id": "6aa17ac0",
   "metadata": {},
   "outputs": [
    {
     "data": {
      "text/plain": [
       "1"
      ]
     },
     "execution_count": 15,
     "metadata": {},
     "output_type": "execute_result"
    }
   ],
   "source": [
    "# Escribe tu solución aquí\n",
    "minimo = min(mi_lista)\n",
    "minimo"
   ]
  },
  {
   "cell_type": "markdown",
   "id": "cbf4eed9",
   "metadata": {},
   "source": [
    "### Ejercicio 11\n",
    "Presentar el número máximo"
   ]
  },
  {
   "cell_type": "code",
   "execution_count": 16,
   "id": "77ded549",
   "metadata": {},
   "outputs": [
    {
     "data": {
      "text/plain": [
       "5"
      ]
     },
     "execution_count": 16,
     "metadata": {},
     "output_type": "execute_result"
    }
   ],
   "source": [
    "# Escribe tu solución aquí\n",
    "maximo = max(mi_lista)\n",
    "maximo"
   ]
  },
  {
   "cell_type": "markdown",
   "id": "566ba5e2",
   "metadata": {},
   "source": [
    "# CURSO DE FUNDAMENTOS DE PYTHON\n",
    "## EJERCICIOS DE LISTAS A RESOLVER"
   ]
  },
  {
   "cell_type": "markdown",
   "id": "cdad9829",
   "metadata": {},
   "source": [
    "### Ejercicio Extra 1\n",
    "Crea una lista vacía llamada `numeros` e introduce los números del 1 al 5. Luego, muestra la lista por pantalla."
   ]
  },
  {
   "cell_type": "code",
   "execution_count": 17,
   "id": "b0f1e0fe",
   "metadata": {},
   "outputs": [
    {
     "data": {
      "text/plain": [
       "[1, 2, 3, 4, 5]"
      ]
     },
     "execution_count": 17,
     "metadata": {},
     "output_type": "execute_result"
    }
   ],
   "source": [
    "# Escribe tu solución aquí\n",
    "numeros =[]\n",
    "numeros.append(1)\n",
    "numeros.append(2)\n",
    "numeros.append(3)\n",
    "numeros.append(4)\n",
    "numeros.append(5)\n",
    "numeros"
   ]
  },
  {
   "cell_type": "markdown",
   "id": "7fca3a9d",
   "metadata": {},
   "source": [
    "### Ejercicio Extra 2\n",
    "Crea una lista con los nombres de tus amigos y muestra por pantalla el primer elemento de la lista."
   ]
  },
  {
   "cell_type": "code",
   "execution_count": 18,
   "id": "c4d5d90c",
   "metadata": {},
   "outputs": [
    {
     "data": {
      "text/plain": [
       "'pedro'"
      ]
     },
     "execution_count": 18,
     "metadata": {},
     "output_type": "execute_result"
    }
   ],
   "source": [
    "# Escribe tu solución aquí\n",
    "nombre = ['pedro', 'Juan','Lenin', 'David']\n",
    "nombre[0]"
   ]
  },
  {
   "cell_type": "markdown",
   "id": "56ee8c20",
   "metadata": {},
   "source": [
    "### Ejercicio Extra 3\n",
    "Crea una lista con los números del 1 al 10 y muestra por pantalla los números pares."
   ]
  },
  {
   "cell_type": "code",
   "execution_count": 19,
   "id": "30867884",
   "metadata": {},
   "outputs": [
    {
     "name": "stdout",
     "output_type": "stream",
     "text": [
      "Este nimero es par  2\n",
      "Este nimero es par  4\n",
      "Este nimero es par  6\n",
      "Este nimero es par  8\n",
      "Este nimero es par  10\n"
     ]
    }
   ],
   "source": [
    "# Escribe tu solución aquí\n",
    "numer=[1,2,3,4,5,6,7,8,9,10]\n",
    "\n",
    "for e in numer:\n",
    "    if e%2 ==0:\n",
    "        print(\"Este nimero es par \",e )"
   ]
  },
  {
   "cell_type": "markdown",
   "id": "fdc7b42b",
   "metadata": {},
   "source": [
    "### Ejercicio Extra 4\n",
    "Crea una lista con los nombres de tus amigos y muestra por pantalla el último elemento de la lista."
   ]
  },
  {
   "cell_type": "code",
   "execution_count": 20,
   "id": "50c378a5",
   "metadata": {},
   "outputs": [
    {
     "data": {
      "text/plain": [
       "'David'"
      ]
     },
     "execution_count": 20,
     "metadata": {},
     "output_type": "execute_result"
    }
   ],
   "source": [
    "# Escribe tu solución aquí\n",
    "nombre[len(nombre)-1]"
   ]
  },
  {
   "cell_type": "markdown",
   "id": "84a05781",
   "metadata": {},
   "source": [
    "### Ejercicio Extra 5\n",
    "Crea una lista con los números del 1 al 10 y muestra por pantalla el último elemento de la lista."
   ]
  },
  {
   "cell_type": "code",
   "execution_count": 21,
   "id": "a391bd9c",
   "metadata": {},
   "outputs": [
    {
     "data": {
      "text/plain": [
       "10"
      ]
     },
     "execution_count": 21,
     "metadata": {},
     "output_type": "execute_result"
    }
   ],
   "source": [
    "# Escribe tu solución aquí\n",
    "numer[len(numer)-1]"
   ]
  },
  {
   "cell_type": "markdown",
   "id": "7d17266f",
   "metadata": {},
   "source": [
    "### Ejercicio Extra 6\n",
    "Crea una lista con los números del 1 al 10 y muestra por pantalla los números impares."
   ]
  },
  {
   "cell_type": "code",
   "execution_count": 22,
   "id": "ea852e2c",
   "metadata": {},
   "outputs": [
    {
     "name": "stdout",
     "output_type": "stream",
     "text": [
      "Este numero es impar  3\n",
      "Este numero es impar  6\n",
      "Este numero es impar  9\n"
     ]
    }
   ],
   "source": [
    "# Escribe tu solución aquí\n",
    "for e in numer:\n",
    "    if e%3 ==0:\n",
    "        print(\"Este numero es impar \",e )"
   ]
  },
  {
   "cell_type": "markdown",
   "id": "6f01fe16",
   "metadata": {},
   "source": [
    "### Ejercicio Extra 7\n",
    "Crea una lista con los nombres de tus amigos y añade un nuevo amigo a la lista. Luego, muestra la lista por pantalla."
   ]
  },
  {
   "cell_type": "code",
   "execution_count": 23,
   "id": "bb8a403a",
   "metadata": {},
   "outputs": [
    {
     "data": {
      "text/plain": [
       "['pedro', 'Juan', 'Lenin', 'David', 'Jerardo']"
      ]
     },
     "execution_count": 23,
     "metadata": {},
     "output_type": "execute_result"
    }
   ],
   "source": [
    "# Escribe tu solución aquí\n",
    "nombre.append('Jerardo')\n",
    "nombre"
   ]
  },
  {
   "cell_type": "markdown",
   "id": "56526675",
   "metadata": {},
   "source": [
    "### Ejercicio Extra 8\n",
    "Crea una lista con los números del 1 al 10 y muestra por pantalla el primer y el último elemento de la lista."
   ]
  },
  {
   "cell_type": "code",
   "execution_count": 24,
   "id": "e7c8e0ee",
   "metadata": {},
   "outputs": [
    {
     "name": "stdout",
     "output_type": "stream",
     "text": [
      "1 10\n"
     ]
    }
   ],
   "source": [
    "# Escribe tu solución aquí\n",
    "print(numer[0], numer[len(numer)-1])"
   ]
  },
  {
   "cell_type": "markdown",
   "id": "a47f4771",
   "metadata": {},
   "source": [
    "### Ejercicio Extra 9\n",
    "Crea una lista con los nombres de tus amigos y muestra por pantalla el número de elementos de la lista."
   ]
  },
  {
   "cell_type": "code",
   "execution_count": 25,
   "id": "00020575",
   "metadata": {},
   "outputs": [
    {
     "data": {
      "text/plain": [
       "5"
      ]
     },
     "execution_count": 25,
     "metadata": {},
     "output_type": "execute_result"
    }
   ],
   "source": [
    "# Escribe tu solución aquí\n",
    "len(nombre)"
   ]
  },
  {
   "cell_type": "markdown",
   "id": "3ae75989",
   "metadata": {},
   "source": [
    "### Ejercicio Extra 10\n",
    "Crea una lista con los números del 1 al 10 y muestra por pantalla la suma de todos los elementos de la lista."
   ]
  },
  {
   "cell_type": "code",
   "execution_count": 26,
   "id": "7cf0c8e0",
   "metadata": {},
   "outputs": [
    {
     "data": {
      "text/plain": [
       "55"
      ]
     },
     "execution_count": 26,
     "metadata": {},
     "output_type": "execute_result"
    }
   ],
   "source": [
    "# Escribe tu solución aquí\n",
    "total = 0\n",
    "for e in numer:\n",
    "    total=total+e\n",
    "\n",
    "total"
   ]
  }
 ],
 "metadata": {
  "kernelspec": {
   "display_name": "base",
   "language": "python",
   "name": "python3"
  },
  "language_info": {
   "codemirror_mode": {
    "name": "ipython",
    "version": 3
   },
   "file_extension": ".py",
   "mimetype": "text/x-python",
   "name": "python",
   "nbconvert_exporter": "python",
   "pygments_lexer": "ipython3",
   "version": "3.13.5"
  }
 },
 "nbformat": 4,
 "nbformat_minor": 5
}
