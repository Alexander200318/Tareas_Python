{
 "cells": [
  {
   "cell_type": "markdown",
   "id": "3958fd5a",
   "metadata": {},
   "source": [
    "# CURSO DE FUNDAMENTOS DE PYTHON\n",
    "## EJERCICIOS DE TUPLAS"
   ]
  },
  {
   "cell_type": "markdown",
   "id": "95569d08",
   "metadata": {},
   "source": [
    "### Ejercicio 1\n",
    "Crear una tupla vacía"
   ]
  },
  {
   "cell_type": "code",
   "execution_count": 1,
   "id": "4dbdd0f3",
   "metadata": {},
   "outputs": [
    {
     "data": {
      "text/plain": [
       "()"
      ]
     },
     "execution_count": 1,
     "metadata": {},
     "output_type": "execute_result"
    }
   ],
   "source": [
    "# Escribe tu solución aquí\n",
    "tupla=()\n",
    "tupla"
   ]
  },
  {
   "cell_type": "markdown",
   "id": "471ea4ec",
   "metadata": {},
   "source": [
    "### Ejercicio 2\n",
    "Crear una tupla con algunos elementos"
   ]
  },
  {
   "cell_type": "code",
   "execution_count": 2,
   "id": "d64155ad",
   "metadata": {},
   "outputs": [
    {
     "data": {
      "text/plain": [
       "(1, 2, 3, 45)"
      ]
     },
     "execution_count": 2,
     "metadata": {},
     "output_type": "execute_result"
    }
   ],
   "source": [
    "# Escribe tu solución aquí\n",
    "tupla=(1,2,3,45)\n",
    "tupla"
   ]
  },
  {
   "cell_type": "markdown",
   "id": "e58dc97c",
   "metadata": {},
   "source": [
    "### Ejercicio 3\n",
    "Acceder a un elemento de la tupla"
   ]
  },
  {
   "cell_type": "code",
   "execution_count": 3,
   "id": "3d38d0a1",
   "metadata": {},
   "outputs": [
    {
     "data": {
      "text/plain": [
       "1"
      ]
     },
     "execution_count": 3,
     "metadata": {},
     "output_type": "execute_result"
    }
   ],
   "source": [
    "# Escribe tu solución aquí\n",
    "tupla[0]"
   ]
  },
  {
   "cell_type": "markdown",
   "id": "3d3ea4ff",
   "metadata": {},
   "source": [
    "### Ejercicio 4\n",
    "Intentar modificar un elemento de la tupla (esto producirá un error ya que las tuplas son inmutables)"
   ]
  },
  {
   "cell_type": "code",
   "execution_count": 4,
   "id": "23550096",
   "metadata": {},
   "outputs": [
    {
     "data": {
      "text/plain": [
       "(100, 2, 3, 45)"
      ]
     },
     "execution_count": 4,
     "metadata": {},
     "output_type": "execute_result"
    }
   ],
   "source": [
    "# Escribe tu solución aquí\n",
    "NuevaLista = list(tupla)\n",
    "NuevaLista[0] = 100\n",
    "tupla = tuple(NuevaLista)\n",
    "tupla"
   ]
  },
  {
   "cell_type": "markdown",
   "id": "2f46a63f",
   "metadata": {},
   "source": [
    "### Ejercicio 5\n",
    "Concatenar dos tuplas"
   ]
  },
  {
   "cell_type": "code",
   "execution_count": 19,
   "id": "a70577e9",
   "metadata": {},
   "outputs": [
    {
     "data": {
      "text/plain": [
       "((100, 2, 3, 45), ('a', 'e', 'i'))"
      ]
     },
     "execution_count": 19,
     "metadata": {},
     "output_type": "execute_result"
    }
   ],
   "source": [
    "# Escribe tu solución aquí\n",
    "tupla2= ('a','e','i')\n",
    "ComTupl = (tupla,tupla2)\n",
    "ComTupl"
   ]
  },
  {
   "cell_type": "markdown",
   "id": "06989a64",
   "metadata": {},
   "source": [
    "### Ejercicio 6\n",
    "Obtener la longitud de una tupla"
   ]
  },
  {
   "cell_type": "code",
   "execution_count": 20,
   "id": "511c00ed",
   "metadata": {},
   "outputs": [
    {
     "data": {
      "text/plain": [
       "4"
      ]
     },
     "execution_count": 20,
     "metadata": {},
     "output_type": "execute_result"
    }
   ],
   "source": [
    "# Escribe tu solución aquí\n",
    "len(tupla)"
   ]
  },
  {
   "cell_type": "markdown",
   "id": "043aa8f9",
   "metadata": {},
   "source": [
    "### Ejercicio 7\n",
    "Convertir una tupla en una lista"
   ]
  },
  {
   "cell_type": "code",
   "execution_count": 21,
   "id": "be09e1b7",
   "metadata": {},
   "outputs": [
    {
     "data": {
      "text/plain": [
       "[100, 2, 3, 45]"
      ]
     },
     "execution_count": 21,
     "metadata": {},
     "output_type": "execute_result"
    }
   ],
   "source": [
    "# Escribe tu solución aquí\n",
    "LISTAS = list(tupla)\n",
    "LISTAS\n"
   ]
  },
  {
   "cell_type": "markdown",
   "id": "d9c8b3d6",
   "metadata": {},
   "source": [
    "### Ejercicio 8\n",
    "Convertir una lista en una tupla"
   ]
  },
  {
   "cell_type": "code",
   "execution_count": 22,
   "id": "c9d30b3f",
   "metadata": {},
   "outputs": [
    {
     "data": {
      "text/plain": [
       "(100, 2, 3, 45)"
      ]
     },
     "execution_count": 22,
     "metadata": {},
     "output_type": "execute_result"
    }
   ],
   "source": [
    "# Escribe tu solución aquí\n",
    "TUPLAS = ()\n",
    "TUPLAS = tuple(LISTAS)\n",
    "TUPLAS"
   ]
  },
  {
   "cell_type": "markdown",
   "id": "7176ec06",
   "metadata": {},
   "source": [
    "### Ejercicio 9\n",
    "Crear una tupla de números enteros y calcular su suma y promedio"
   ]
  },
  {
   "cell_type": "code",
   "execution_count": 24,
   "id": "e7f7a609",
   "metadata": {},
   "outputs": [
    {
     "name": "stdout",
     "output_type": "stream",
     "text": [
      "La suma es  28  y su promedio es de  4.0\n"
     ]
    }
   ],
   "source": [
    "# Escribe tu solución aquí\n",
    "NUM = (1,2,3,4,5,6,7)\n",
    "suma = 0\n",
    "for e in NUM:\n",
    "    suma =suma+e\n",
    "print(\"La suma es \",suma, \" y su promedio es de \",suma/len(NUM))"
   ]
  },
  {
   "cell_type": "markdown",
   "id": "40cff443",
   "metadata": {},
   "source": [
    "### Ejercicio 10\n",
    "Crear dos tuplas de la misma longitud y crear una nueva tupla que contenga la suma de los elementos correspondientes de ambas tuplas"
   ]
  },
  {
   "cell_type": "code",
   "execution_count": 26,
   "id": "7e86cf87",
   "metadata": {},
   "outputs": [
    {
     "data": {
      "text/plain": [
       "8"
      ]
     },
     "execution_count": 26,
     "metadata": {},
     "output_type": "execute_result"
    }
   ],
   "source": [
    "# Escribe tu solución aquí\n",
    "tup1 = (1,2,3,4)\n",
    "tup2 = ('a','e','i','o')\n",
    "totTup = tup1+tup2\n",
    "len(totTup)"
   ]
  },
  {
   "cell_type": "markdown",
   "id": "1860c8b5",
   "metadata": {},
   "source": [
    "### Ejercicio 11\n",
    "Crear una tupla de nombres y ordenarla alfabéticamente"
   ]
  },
  {
   "cell_type": "code",
   "execution_count": 27,
   "id": "8747c99f",
   "metadata": {},
   "outputs": [
    {
     "name": "stdout",
     "output_type": "stream",
     "text": [
      "['Ana', 'Carlos', 'Luis']\n"
     ]
    }
   ],
   "source": [
    "# Escribe tu solución aquí\n",
    "tupla = (\"Carlos\", \"Ana\", \"Luis\")\n",
    "lista = list(tupla)\n",
    "\n",
    "lista.sort()\n",
    "print(lista) "
   ]
  },
  {
   "cell_type": "markdown",
   "id": "55909a48",
   "metadata": {},
   "source": [
    "### Ejercicio 12\n",
    "Crear una tupla de números y encontrar el valor mínimo y máximo"
   ]
  },
  {
   "cell_type": "code",
   "execution_count": 30,
   "id": "40caeaad",
   "metadata": {},
   "outputs": [
    {
     "name": "stdout",
     "output_type": "stream",
     "text": [
      "1\n",
      "7\n"
     ]
    }
   ],
   "source": [
    "# Escribe tu solución aquí\n",
    "print(min(NUM))\n",
    "print(max(NUM))"
   ]
  },
  {
   "cell_type": "markdown",
   "id": "226d77e2",
   "metadata": {},
   "source": [
    "### Ejercicio 13\n",
    "Crear una tupla de números y convertirla en una lista"
   ]
  },
  {
   "cell_type": "code",
   "execution_count": 31,
   "id": "8d33e2a9",
   "metadata": {},
   "outputs": [
    {
     "name": "stdout",
     "output_type": "stream",
     "text": [
      "Tupla original: (10, 20, 30, 40, 50)\n",
      "Lista convertida: [10, 20, 30, 40, 50]\n"
     ]
    }
   ],
   "source": [
    "# Escribe tu solución aquí\n",
    "numeross = (10, 20, 30, 40, 50)\n",
    "\n",
    "lista_numeros = list(numeross)\n",
    "\n",
    "print(\"Tupla original:\", numeross)\n",
    "print(\"Lista convertida:\", lista_numeros)\n"
   ]
  },
  {
   "cell_type": "markdown",
   "id": "aed8eb40",
   "metadata": {},
   "source": [
    "### Ejercicio 14\n",
    "Crear una tupla con los días de la semana y mostrar el tercer elemento"
   ]
  },
  {
   "cell_type": "code",
   "execution_count": 32,
   "id": "e0e0592d",
   "metadata": {},
   "outputs": [
    {
     "name": "stdout",
     "output_type": "stream",
     "text": [
      "El tercer día de la semana es: Miércoles\n"
     ]
    }
   ],
   "source": [
    "# Escribe tu solución aquí\n",
    "dias_semana = (\"Lunes\", \"Martes\", \"Miércoles\", \"Jueves\", \"Viernes\", \"Sábado\", \"Domingo\")\n",
    "\n",
    "print(\"El tercer día de la semana es:\", dias_semana[2])\n"
   ]
  },
  {
   "cell_type": "markdown",
   "id": "a4e2f0bd",
   "metadata": {},
   "source": [
    "### Ejercicio 15\n",
    "Crear una tupla con números enteros y mostrar aquellos que son pares"
   ]
  },
  {
   "cell_type": "code",
   "execution_count": 34,
   "id": "ae68bcc2",
   "metadata": {},
   "outputs": [
    {
     "name": "stdout",
     "output_type": "stream",
     "text": [
      "2\n",
      "4\n",
      "6\n",
      "8\n",
      "10\n"
     ]
    }
   ],
   "source": [
    "# Escribe tu solución aquí\n",
    "numeros = (1, 2, 3, 4, 5, 6, 7, 8, 9, 10)\n",
    "\n",
    "for n in numeros:\n",
    "    if n % 2 == 0:\n",
    "        print(n)\n"
   ]
  },
  {
   "cell_type": "markdown",
   "id": "e062a7b7",
   "metadata": {},
   "source": [
    "### Ejercicio 16\n",
    "Crear una tupla con los meses del año y mostrar aquellos que tienen más de cinco letras"
   ]
  },
  {
   "cell_type": "code",
   "execution_count": 35,
   "id": "e58a5aeb",
   "metadata": {},
   "outputs": [
    {
     "name": "stdout",
     "output_type": "stream",
     "text": [
      "Meses con más de cinco letras:\n",
      "Febrero\n",
      "Agosto\n",
      "Septiembre\n",
      "Octubre\n",
      "Noviembre\n",
      "Diciembre\n"
     ]
    }
   ],
   "source": [
    "# Escribe tu solución aquí\n",
    "meses = (\"Enero\", \"Febrero\", \"Marzo\", \"Abril\", \"Mayo\", \"Junio\", \n",
    "         \"Julio\", \"Agosto\", \"Septiembre\", \"Octubre\", \"Noviembre\", \"Diciembre\")\n",
    "\n",
    "print(\"Meses con más de cinco letras:\")\n",
    "for mes in meses:\n",
    "    if len(mes) > 5:\n",
    "        print(mes)\n"
   ]
  },
  {
   "cell_type": "markdown",
   "id": "c7e09ce7",
   "metadata": {},
   "source": [
    "### Ejercicio 17\n",
    "Crear una tupla con las edades de varias personas y mostrar la cantidad de personas mayores de 18 años"
   ]
  },
  {
   "cell_type": "code",
   "execution_count": 36,
   "id": "d07c0fd7",
   "metadata": {},
   "outputs": [
    {
     "name": "stdout",
     "output_type": "stream",
     "text": [
      "Cantidad de personas mayores de 18 años: 4\n"
     ]
    }
   ],
   "source": [
    "# Escribe tu solución aquí\n",
    "\n",
    "edades = (15, 22, 18, 30, 12, 45, 19, 17)\n",
    "\n",
    "mayores = 0\n",
    "for edad in edades:\n",
    "    if edad > 18:\n",
    "        mayores += 1\n",
    "\n",
    "print(\"Cantidad de personas mayores de 18 años:\", mayores)\n"
   ]
  },
  {
   "cell_type": "markdown",
   "id": "e499c0fc",
   "metadata": {},
   "source": [
    "### Ejercicio 18\n",
    "Crear una tupla de tuplas que contienen información de libros y mostrar el título del tercer libro"
   ]
  },
  {
   "cell_type": "code",
   "execution_count": 37,
   "id": "bdb7376a",
   "metadata": {},
   "outputs": [
    {
     "name": "stdout",
     "output_type": "stream",
     "text": [
      "El título del tercer libro es: La sombra del viento\n"
     ]
    }
   ],
   "source": [
    "# Escribe tu solución aquí\n",
    "libros = (\n",
    "    (\"Cien años de soledad\", \"Gabriel García Márquez\", 1967),\n",
    "    (\"Don Quijote de la Mancha\", \"Miguel de Cervantes\", 1605),\n",
    "    (\"La sombra del viento\", \"Carlos Ruiz Zafón\", 2001),\n",
    "    (\"El principito\", \"Antoine de Saint-Exupéry\", 1943)\n",
    ")\n",
    "print(\"El título del tercer libro es:\", libros[2][0])\n"
   ]
  }
 ],
 "metadata": {
  "kernelspec": {
   "display_name": "base",
   "language": "python",
   "name": "python3"
  },
  "language_info": {
   "codemirror_mode": {
    "name": "ipython",
    "version": 3
   },
   "file_extension": ".py",
   "mimetype": "text/x-python",
   "name": "python",
   "nbconvert_exporter": "python",
   "pygments_lexer": "ipython3",
   "version": "3.13.5"
  }
 },
 "nbformat": 4,
 "nbformat_minor": 5
}
