{
 "cells": [
  {
   "cell_type": "markdown",
   "id": "337f1a1c",
   "metadata": {},
   "source": [
    "# CURSO DE FUNDAMENTOS DE PYTHON\n",
    "## EJERCICIOS DE DICCIONARIOS"
   ]
  },
  {
   "cell_type": "markdown",
   "id": "0bc8a1f7",
   "metadata": {},
   "source": [
    "### Ejercicio Básico 1\n",
    "Crear un diccionario vacío"
   ]
  },
  {
   "cell_type": "code",
   "execution_count": 2,
   "id": "43df951b",
   "metadata": {},
   "outputs": [
    {
     "data": {
      "text/plain": [
       "{}"
      ]
     },
     "execution_count": 2,
     "metadata": {},
     "output_type": "execute_result"
    }
   ],
   "source": [
    "# Escribe tu solución aquí\n",
    "colec = {}\n",
    "colec"
   ]
  },
  {
   "cell_type": "markdown",
   "id": "2a28ae62",
   "metadata": {},
   "source": [
    "### Ejercicio Básico 2\n",
    "Agregar elementos a un diccionario"
   ]
  },
  {
   "cell_type": "code",
   "execution_count": 3,
   "id": "a02b119d",
   "metadata": {},
   "outputs": [
    {
     "data": {
      "text/plain": [
       "{'nombre': 'Alexander', 'edad': 17}"
      ]
     },
     "execution_count": 3,
     "metadata": {},
     "output_type": "execute_result"
    }
   ],
   "source": [
    "# Escribe tu solución aquí\n",
    "colec[\"nombre\"] = \"Alexander\"\n",
    "colec[\"edad\"] = 17\n",
    "colec\n"
   ]
  },
  {
   "cell_type": "markdown",
   "id": "d6d8a38b",
   "metadata": {},
   "source": [
    "### Ejercicio Básico 3\n",
    "Acceder a un valor en un diccionario"
   ]
  },
  {
   "cell_type": "code",
   "execution_count": 4,
   "id": "693d1c07",
   "metadata": {},
   "outputs": [
    {
     "data": {
      "text/plain": [
       "'Alexander'"
      ]
     },
     "execution_count": 4,
     "metadata": {},
     "output_type": "execute_result"
    }
   ],
   "source": [
    "# Escribe tu solución aquí\n",
    "colec[\"nombre\"] "
   ]
  },
  {
   "cell_type": "markdown",
   "id": "67c95a2a",
   "metadata": {},
   "source": [
    "### Ejercicio Básico 4\n",
    "Verificar si una llave existe en un diccionario"
   ]
  },
  {
   "cell_type": "code",
   "execution_count": 5,
   "id": "b1d9f6d9",
   "metadata": {},
   "outputs": [
    {
     "data": {
      "text/plain": [
       "False"
      ]
     },
     "execution_count": 5,
     "metadata": {},
     "output_type": "execute_result"
    }
   ],
   "source": [
    "# Escribe tu solución aquí\n",
    "'nomb' in colec"
   ]
  },
  {
   "cell_type": "markdown",
   "id": "0b8f0653",
   "metadata": {},
   "source": [
    "### Ejercicio Básico 5\n",
    "Eliminar un elemento de un diccionario"
   ]
  },
  {
   "cell_type": "code",
   "execution_count": 10,
   "id": "99ef8d65",
   "metadata": {},
   "outputs": [
    {
     "name": "stdout",
     "output_type": "stream",
     "text": [
      "{'nombre': 'Alexander', 'edad': 17}\n"
     ]
    }
   ],
   "source": [
    "# Escribe tu solución aquí\n",
    "persona = {\"nombre\": \"Alexander\", \"edad\": 17, \"instrumento\": \"Trompeta\"}\n",
    "\n",
    "# Eliminar la clave \"instrumento\"\n",
    "persona.pop(\"instrumento\")\n",
    "\n",
    "print(persona) "
   ]
  },
  {
   "cell_type": "markdown",
   "id": "7fe51000",
   "metadata": {},
   "source": [
    "### Ejercicio Básico 6\n",
    "Imprimir las llaves de un diccionario"
   ]
  },
  {
   "cell_type": "code",
   "execution_count": 11,
   "id": "383324c8",
   "metadata": {},
   "outputs": [
    {
     "data": {
      "text/plain": [
       "dict_keys(['nombre', 'edad'])"
      ]
     },
     "execution_count": 11,
     "metadata": {},
     "output_type": "execute_result"
    }
   ],
   "source": [
    "# Escribe tu solución aquí\n",
    "persona.keys()"
   ]
  },
  {
   "cell_type": "markdown",
   "id": "cdfdf562",
   "metadata": {},
   "source": [
    "### Ejercicio Básico 7\n",
    "Imprimir los valores de un diccionario"
   ]
  },
  {
   "cell_type": "code",
   "execution_count": 13,
   "id": "bba68dae",
   "metadata": {},
   "outputs": [
    {
     "data": {
      "text/plain": [
       "dict_values(['Alexander', 17])"
      ]
     },
     "execution_count": 13,
     "metadata": {},
     "output_type": "execute_result"
    }
   ],
   "source": [
    "# Escribe tu solución aquí\n",
    "persona.values()"
   ]
  },
  {
   "cell_type": "markdown",
   "id": "de6e3f5f",
   "metadata": {},
   "source": [
    "### Ejercicio Básico 8\n",
    "Imprimir las llaves y valores de un diccionario"
   ]
  },
  {
   "cell_type": "code",
   "execution_count": 14,
   "id": "1b7096d3",
   "metadata": {},
   "outputs": [
    {
     "data": {
      "text/plain": [
       "{'nombre': 'Alexander', 'edad': 17}"
      ]
     },
     "execution_count": 14,
     "metadata": {},
     "output_type": "execute_result"
    }
   ],
   "source": [
    "# Escribe tu solución aquí\n",
    "persona"
   ]
  },
  {
   "cell_type": "markdown",
   "id": "4fe8f3b6",
   "metadata": {},
   "source": [
    "### Ejercicio Aplicado 1\n",
    "Crea un diccionario vacío y agrega tres elementos de la siguiente forma: 'clave': valor"
   ]
  },
  {
   "cell_type": "code",
   "execution_count": 15,
   "id": "2bedb3b1",
   "metadata": {},
   "outputs": [
    {
     "data": {
      "text/plain": [
       "{'edad': 17, 'altura': 1.72, 'activo': True}"
      ]
     },
     "execution_count": 15,
     "metadata": {},
     "output_type": "execute_result"
    }
   ],
   "source": [
    "# Escribe tu solución aquí\n",
    "datos = {}\n",
    "\n",
    "                    \n",
    "datos['edad'] = 17                                 \n",
    "datos['altura'] = 1.72                             \n",
    "datos['activo'] = True                             \n",
    "\n",
    "datos\n"
   ]
  },
  {
   "cell_type": "markdown",
   "id": "5e93d56f",
   "metadata": {},
   "source": [
    "### Ejercicio Aplicado 2\n",
    "Dado el siguiente diccionario:\n",
    "```python\n",
    "personas = {\"Juan\": 28, \"María\": 20, \"Pedro\": 32, \"Ana\": 25}\n",
    "```\n",
    "a) Imprime la edad de Juan.  \n",
    "b) Agrega un nuevo elemento al diccionario con la clave 'Luis' y la edad 18.  \n",
    "c) Elimina el elemento con la clave 'Pedro'."
   ]
  },
  {
   "cell_type": "code",
   "execution_count": 16,
   "id": "8555f7d3",
   "metadata": {},
   "outputs": [
    {
     "name": "stdout",
     "output_type": "stream",
     "text": [
      "Edad de Juan: 28\n"
     ]
    },
    {
     "data": {
      "text/plain": [
       "{'Juan': 28, 'María': 20, 'Ana': 25, 'Luis': 18}"
      ]
     },
     "execution_count": 16,
     "metadata": {},
     "output_type": "execute_result"
    }
   ],
   "source": [
    "# Escribe tu solución aquí\n",
    "personas = {\"Juan\": 28, \"María\": 20, \"Pedro\": 32, \"Ana\": 25}\n",
    "\n",
    "# a) Imprimir la edad de Juan\n",
    "print(\"Edad de Juan:\", personas[\"Juan\"])\n",
    "\n",
    "# b) Agregar un nuevo elemento con la clave 'Luis' y la edad 18\n",
    "personas[\"Luis\"] = 18\n",
    "\n",
    "# c) Eliminar el elemento con la clave 'Pedro'\n",
    "personas.pop(\"Pedro\") \n",
    "\n",
    "personas"
   ]
  },
  {
   "cell_type": "markdown",
   "id": "28422800",
   "metadata": {},
   "source": [
    "### Ejercicio Aplicado 3\n",
    "Dado el siguiente diccionario:\n",
    "```python\n",
    "ventas = {\"manzanas\": 10, \"naranjas\": 5, \"peras\": 8}\n",
    "```\n",
    "a) Imprime la cantidad de manzanas vendidas.  \n",
    "b) Agrega 3 elementos más al diccionario: 'limones': 12, 'sandías': 3, 'melones': 5.  \n",
    "c) Imprime las claves del diccionario."
   ]
  },
  {
   "cell_type": "code",
   "execution_count": 17,
   "id": "b2689c93",
   "metadata": {},
   "outputs": [
    {
     "name": "stdout",
     "output_type": "stream",
     "text": [
      "Cantidad de manzanas vendidas: 10\n",
      "Claves del diccionario:\n",
      "manzanas\n",
      "naranjas\n",
      "peras\n",
      "limones\n",
      "sandías\n",
      "melones\n"
     ]
    }
   ],
   "source": [
    "# Escribe tu solución aquí\n",
    "ventas = {\"manzanas\": 10, \"naranjas\": 5, \"peras\": 8}\n",
    "\n",
    "# a) Imprimir la cantidad de manzanas vendidas\n",
    "print(\"Cantidad de manzanas vendidas:\", ventas[\"manzanas\"])\n",
    "\n",
    "# b) Agregar 3 elementos más al diccionario\n",
    "ventas[\"limones\"] = 12\n",
    "ventas[\"sandías\"] = 3\n",
    "ventas[\"melones\"] = 5\n",
    "\n",
    "# c) Imprimir las claves del diccionario\n",
    "print(\"Claves del diccionario:\")\n",
    "for fruta in ventas.keys():\n",
    "    print(fruta)\n"
   ]
  },
  {
   "cell_type": "markdown",
   "id": "285e41cc",
   "metadata": {},
   "source": [
    "### Ejercicio Aplicado 4\n",
    "Dado el siguiente diccionario:\n",
    "```python\n",
    "alumnos = {\"Juan\": {\"edad\": 22, \"promedio\": 8.5},\n",
    "           \"María\": {\"edad\": 20, \"promedio\": 9.0},\n",
    "           \"Pedro\": {\"edad\": 25, \"promedio\": 7.5}}\n",
    "```\n",
    "a) Imprime la edad de Juan.  \n",
    "b) Imprime el promedio de María.  \n",
    "c) Agrega un nuevo elemento al diccionario con la clave 'Ana' y los valores 'edad': 19 y 'promedio': 8.0."
   ]
  },
  {
   "cell_type": "code",
   "execution_count": 18,
   "id": "4dea8dfa",
   "metadata": {},
   "outputs": [
    {
     "name": "stdout",
     "output_type": "stream",
     "text": [
      "Edad de Juan: 22\n",
      "Promedio de María: 9.0\n",
      "Diccionario actualizado:\n",
      "Juan: Edad 22, Promedio 8.5\n",
      "María: Edad 20, Promedio 9.0\n",
      "Pedro: Edad 25, Promedio 7.5\n",
      "Ana: Edad 19, Promedio 8.0\n"
     ]
    }
   ],
   "source": [
    "# Escribe tu solución aquí\n",
    "alumnos = {\n",
    "    \"Juan\": {\"edad\": 22, \"promedio\": 8.5},\n",
    "    \"María\": {\"edad\": 20, \"promedio\": 9.0},\n",
    "    \"Pedro\": {\"edad\": 25, \"promedio\": 7.5}\n",
    "}\n",
    "\n",
    "# a) Imprimir la edad de Juan\n",
    "print(\"Edad de Juan:\", alumnos[\"Juan\"][\"edad\"])\n",
    "\n",
    "# b) Imprimir el promedio de María\n",
    "print(\"Promedio de María:\", alumnos[\"María\"][\"promedio\"])\n",
    "\n",
    "# c) Agregar un nuevo elemento con la clave 'Ana'\n",
    "alumnos[\"Ana\"] = {\"edad\": 19, \"promedio\": 8.0}\n",
    "\n",
    "\n",
    "print(\"Diccionario actualizado:\")\n",
    "for nombre, datos in alumnos.items():\n",
    "    print(f\"{nombre}: Edad {datos['edad']}, Promedio {datos['promedio']}\")\n"
   ]
  },
  {
   "cell_type": "markdown",
   "id": "e6c304c2",
   "metadata": {},
   "source": [
    "### Ejercicio Aplicado 5\n",
    "Dado el siguiente diccionario:\n",
    "```python\n",
    "empleados = {\"Juan\": {\"departamento\": \"Ventas\", \"sueldo\": 1500},\n",
    "             \"María\": {\"departamento\": \"Contabilidad\", \"sueldo\": 1800},\n",
    "             \"Pedro\": {\"departamento\": \"Ventas\", \"sueldo\": 1700},\n",
    "             \"Ana\": {\"departamento\": \"Recursos Humanos\", \"sueldo\": 1900}}\n",
    "```\n",
    "a) Imprime el sueldo de Pedro.  \n",
    "b) Cambia el sueldo de Ana a 2000.  \n",
    "c) Crea un nuevo diccionario con los empleados del departamento de Ventas."
   ]
  },
  {
   "cell_type": "code",
   "execution_count": 19,
   "id": "dbed37f4",
   "metadata": {},
   "outputs": [
    {
     "name": "stdout",
     "output_type": "stream",
     "text": [
      "Sueldo de Pedro: 1700\n",
      "Empleados del departamento de Ventas:\n",
      "{'Juan': {'departamento': 'Ventas', 'sueldo': 1500}, 'Pedro': {'departamento': 'Ventas', 'sueldo': 1700}}\n"
     ]
    }
   ],
   "source": [
    "# Escribe tu solución aquí\n",
    "empleados = {\n",
    "    \"Juan\": {\"departamento\": \"Ventas\", \"sueldo\": 1500},\n",
    "    \"María\": {\"departamento\": \"Contabilidad\", \"sueldo\": 1800},\n",
    "    \"Pedro\": {\"departamento\": \"Ventas\", \"sueldo\": 1700},\n",
    "    \"Ana\": {\"departamento\": \"Recursos Humanos\", \"sueldo\": 1900}\n",
    "}\n",
    "\n",
    "# a) Imprimir el sueldo de Pedro\n",
    "print(\"Sueldo de Pedro:\", empleados[\"Pedro\"][\"sueldo\"])\n",
    "\n",
    "# b) Cambiar el sueldo de Ana a 2000\n",
    "empleados[\"Ana\"][\"sueldo\"] = 2000\n",
    "\n",
    "# c) Crear un nuevo diccionario con los empleados del departamento de Ventas\n",
    "ventas = {}\n",
    "for nombre, datos in empleados.items():\n",
    "    if datos[\"departamento\"] == \"Ventas\":\n",
    "        ventas[nombre] = datos\n",
    "\n",
    "# Mostrar el nuevo diccionario\n",
    "print(\"Empleados del departamento de Ventas:\")\n",
    "print(ventas)\n"
   ]
  },
  {
   "cell_type": "markdown",
   "id": "7706badf",
   "metadata": {},
   "source": [
    "### Ejercicio Aplicado 6\n",
    "Dado el siguiente diccionario:\n",
    "```python\n",
    "cursos = {\"Pedro\": [\"Matemáticas\", \"Biología\", \"Historia\"],\n",
    "          \"María\": [\"Física\", \"Química\", \"Literatura\"]}\n",
    "```\n",
    "a) Imprime las materias en las que está inscrito Pedro.  \n",
    "b) Agrega una materia más a la lista de materias de María: 'Programación'.  \n",
    "c) Crea un nuevo diccionario con los estudiantes que están inscritos en la materia de Biología."
   ]
  },
  {
   "cell_type": "code",
   "execution_count": 20,
   "id": "6cb4d006",
   "metadata": {},
   "outputs": [
    {
     "name": "stdout",
     "output_type": "stream",
     "text": [
      "Materias de Pedro: ['Matemáticas', 'Biología', 'Historia']\n",
      "Estudiantes inscritos en Biología:\n",
      "{'Pedro': ['Matemáticas', 'Biología', 'Historia']}\n"
     ]
    }
   ],
   "source": [
    "# Escribe tu solución aquí\n",
    "cursos = {\n",
    "    \"Pedro\": [\"Matemáticas\", \"Biología\", \"Historia\"],\n",
    "    \"María\": [\"Física\", \"Química\", \"Literatura\"]\n",
    "}\n",
    "\n",
    "# a) Imprimir las materias en las que está inscrito Pedro\n",
    "print(\"Materias de Pedro:\", cursos[\"Pedro\"])\n",
    "\n",
    "# b) Agregar una materia más a la lista de María\n",
    "cursos[\"María\"].append(\"Programación\")\n",
    "\n",
    "# c) Crear un nuevo diccionario con los estudiantes que están inscritos en Biología\n",
    "inscritos_biologia = {}\n",
    "for estudiante, materias in cursos.items():\n",
    "    if \"Biología\" in materias:\n",
    "        inscritos_biologia[estudiante] = materias\n",
    "\n",
    "# Mostrar el nuevo diccionario\n",
    "print(\"Estudiantes inscritos en Biología:\")\n",
    "print(inscritos_biologia)\n"
   ]
  },
  {
   "cell_type": "markdown",
   "id": "f95a0efa",
   "metadata": {},
   "source": [
    "### Ejercicio Aplicado 7\n",
    "Dado el siguiente diccionario:\n",
    "```python\n",
    "productos = {'manzanas': 2.99, 'naranjas': 1.99, 'peras': 3.99, 'uvas': 4.99,\n",
    "             'kiwis': 0.99, 'duraznos': 2.49}\n",
    "stock = {'manzanas': 100, 'naranjas': 50, 'peras': 25, 'uvas': 75, 'kiwis': 200, 'duraznos': 60}\n",
    "```\n",
    "a) Imprime el precio de las naranjas.  \n",
    "b) Cambia el stock de peras a 12.  \n",
    "c) Crea una función que calcule el valor total de los productos en el diccionario."
   ]
  },
  {
   "cell_type": "code",
   "execution_count": 21,
   "id": "08363096",
   "metadata": {},
   "outputs": [
    {
     "name": "stdout",
     "output_type": "stream",
     "text": [
      "Precio de las naranjas: 1.99\n",
      "Valor total del inventario: 1168.03\n"
     ]
    }
   ],
   "source": [
    "# Escribe tu solución aquí\n",
    "productos = {\n",
    "    'manzanas': 2.99,\n",
    "    'naranjas': 1.99,\n",
    "    'peras': 3.99,\n",
    "    'uvas': 4.99,\n",
    "    'kiwis': 0.99,\n",
    "    'duraznos': 2.49\n",
    "}\n",
    "\n",
    "stock = {\n",
    "    'manzanas': 100,\n",
    "    'naranjas': 50,\n",
    "    'peras': 25,\n",
    "    'uvas': 75,\n",
    "    'kiwis': 200,\n",
    "    'duraznos': 60\n",
    "}\n",
    "\n",
    "# a) Imprimir el precio de las naranjas\n",
    "print(\"Precio de las naranjas:\", productos['naranjas'])\n",
    "\n",
    "# b) Cambiar el stock de peras a 12\n",
    "stock['peras'] = 12\n",
    "\n",
    "# c) Función para calcular el valor total de los productos\n",
    "def calcular_valor_total(productos, stock):\n",
    "    total = 0\n",
    "    for producto in productos:\n",
    "        precio = productos[producto]\n",
    "        cantidad = stock.get(producto, 0)  # Si no hay stock, se asume 0\n",
    "        total += precio * cantidad\n",
    "    return total\n",
    "\n",
    "# Mostrar el valor total\n",
    "valor_total = calcular_valor_total(productos, stock)\n",
    "print(\"Valor total del inventario:\", round(valor_total, 2))\n"
   ]
  }
 ],
 "metadata": {
  "kernelspec": {
   "display_name": "base",
   "language": "python",
   "name": "python3"
  },
  "language_info": {
   "codemirror_mode": {
    "name": "ipython",
    "version": 3
   },
   "file_extension": ".py",
   "mimetype": "text/x-python",
   "name": "python",
   "nbconvert_exporter": "python",
   "pygments_lexer": "ipython3",
   "version": "3.13.5"
  }
 },
 "nbformat": 4,
 "nbformat_minor": 5
}
