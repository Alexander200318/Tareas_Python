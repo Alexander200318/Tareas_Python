{
 "cells": [
  {
   "cell_type": "markdown",
   "id": "337f1a1c",
   "metadata": {},
   "source": [
    "# CURSO DE FUNDAMENTOS DE PYTHON\n",
    "## EJERCICIOS DE DICCIONARIOS"
   ]
  },
  {
   "cell_type": "markdown",
   "id": "0bc8a1f7",
   "metadata": {},
   "source": [
    "### Ejercicio Básico 1\n",
    "Crear un diccionario vacío"
   ]
  },
  {
   "cell_type": "code",
   "execution_count": null,
   "id": "43df951b",
   "metadata": {},
   "outputs": [],
   "source": [
    "# Escribe tu solución aquí\n"
   ]
  },
  {
   "cell_type": "markdown",
   "id": "2a28ae62",
   "metadata": {},
   "source": [
    "### Ejercicio Básico 2\n",
    "Agregar elementos a un diccionario"
   ]
  },
  {
   "cell_type": "code",
   "execution_count": null,
   "id": "a02b119d",
   "metadata": {},
   "outputs": [],
   "source": [
    "# Escribe tu solución aquí\n"
   ]
  },
  {
   "cell_type": "markdown",
   "id": "d6d8a38b",
   "metadata": {},
   "source": [
    "### Ejercicio Básico 3\n",
    "Acceder a un valor en un diccionario"
   ]
  },
  {
   "cell_type": "code",
   "execution_count": null,
   "id": "693d1c07",
   "metadata": {},
   "outputs": [],
   "source": [
    "# Escribe tu solución aquí\n"
   ]
  },
  {
   "cell_type": "markdown",
   "id": "67c95a2a",
   "metadata": {},
   "source": [
    "### Ejercicio Básico 4\n",
    "Verificar si una llave existe en un diccionario"
   ]
  },
  {
   "cell_type": "code",
   "execution_count": null,
   "id": "b1d9f6d9",
   "metadata": {},
   "outputs": [],
   "source": [
    "# Escribe tu solución aquí\n"
   ]
  },
  {
   "cell_type": "markdown",
   "id": "0b8f0653",
   "metadata": {},
   "source": [
    "### Ejercicio Básico 5\n",
    "Eliminar un elemento de un diccionario"
   ]
  },
  {
   "cell_type": "code",
   "execution_count": null,
   "id": "99ef8d65",
   "metadata": {},
   "outputs": [],
   "source": [
    "# Escribe tu solución aquí\n"
   ]
  },
  {
   "cell_type": "markdown",
   "id": "7fe51000",
   "metadata": {},
   "source": [
    "### Ejercicio Básico 6\n",
    "Imprimir las llaves de un diccionario"
   ]
  },
  {
   "cell_type": "code",
   "execution_count": null,
   "id": "383324c8",
   "metadata": {},
   "outputs": [],
   "source": [
    "# Escribe tu solución aquí\n"
   ]
  },
  {
   "cell_type": "markdown",
   "id": "cdfdf562",
   "metadata": {},
   "source": [
    "### Ejercicio Básico 7\n",
    "Imprimir los valores de un diccionario"
   ]
  },
  {
   "cell_type": "code",
   "execution_count": null,
   "id": "bba68dae",
   "metadata": {},
   "outputs": [],
   "source": [
    "# Escribe tu solución aquí\n"
   ]
  },
  {
   "cell_type": "markdown",
   "id": "de6e3f5f",
   "metadata": {},
   "source": [
    "### Ejercicio Básico 8\n",
    "Imprimir las llaves y valores de un diccionario"
   ]
  },
  {
   "cell_type": "code",
   "execution_count": null,
   "id": "1b7096d3",
   "metadata": {},
   "outputs": [],
   "source": [
    "# Escribe tu solución aquí\n"
   ]
  },
  {
   "cell_type": "markdown",
   "id": "4fe8f3b6",
   "metadata": {},
   "source": [
    "### Ejercicio Aplicado 1\n",
    "Crea un diccionario vacío y agrega tres elementos de la siguiente forma: 'clave': valor"
   ]
  },
  {
   "cell_type": "code",
   "execution_count": null,
   "id": "2bedb3b1",
   "metadata": {},
   "outputs": [],
   "source": [
    "# Escribe tu solución aquí\n"
   ]
  },
  {
   "cell_type": "markdown",
   "id": "5e93d56f",
   "metadata": {},
   "source": [
    "### Ejercicio Aplicado 2\n",
    "Dado el siguiente diccionario:\n",
    "```python\n",
    "personas = {\"Juan\": 28, \"María\": 20, \"Pedro\": 32, \"Ana\": 25}\n",
    "```\n",
    "a) Imprime la edad de Juan.  \n",
    "b) Agrega un nuevo elemento al diccionario con la clave 'Luis' y la edad 18.  \n",
    "c) Elimina el elemento con la clave 'Pedro'."
   ]
  },
  {
   "cell_type": "code",
   "execution_count": null,
   "id": "8555f7d3",
   "metadata": {},
   "outputs": [],
   "source": [
    "# Escribe tu solución aquí\n"
   ]
  },
  {
   "cell_type": "markdown",
   "id": "28422800",
   "metadata": {},
   "source": [
    "### Ejercicio Aplicado 3\n",
    "Dado el siguiente diccionario:\n",
    "```python\n",
    "ventas = {\"manzanas\": 10, \"naranjas\": 5, \"peras\": 8}\n",
    "```\n",
    "a) Imprime la cantidad de manzanas vendidas.  \n",
    "b) Agrega 3 elementos más al diccionario: 'limones': 12, 'sandías': 3, 'melones': 5.  \n",
    "c) Imprime las claves del diccionario."
   ]
  },
  {
   "cell_type": "code",
   "execution_count": null,
   "id": "b2689c93",
   "metadata": {},
   "outputs": [],
   "source": [
    "# Escribe tu solución aquí\n"
   ]
  },
  {
   "cell_type": "markdown",
   "id": "285e41cc",
   "metadata": {},
   "source": [
    "### Ejercicio Aplicado 4\n",
    "Dado el siguiente diccionario:\n",
    "```python\n",
    "alumnos = {\"Juan\": {\"edad\": 22, \"promedio\": 8.5},\n",
    "           \"María\": {\"edad\": 20, \"promedio\": 9.0},\n",
    "           \"Pedro\": {\"edad\": 25, \"promedio\": 7.5}}\n",
    "```\n",
    "a) Imprime la edad de Juan.  \n",
    "b) Imprime el promedio de María.  \n",
    "c) Agrega un nuevo elemento al diccionario con la clave 'Ana' y los valores 'edad': 19 y 'promedio': 8.0."
   ]
  },
  {
   "cell_type": "code",
   "execution_count": null,
   "id": "4dea8dfa",
   "metadata": {},
   "outputs": [],
   "source": [
    "# Escribe tu solución aquí\n"
   ]
  },
  {
   "cell_type": "markdown",
   "id": "e6c304c2",
   "metadata": {},
   "source": [
    "### Ejercicio Aplicado 5\n",
    "Dado el siguiente diccionario:\n",
    "```python\n",
    "empleados = {\"Juan\": {\"departamento\": \"Ventas\", \"sueldo\": 1500},\n",
    "             \"María\": {\"departamento\": \"Contabilidad\", \"sueldo\": 1800},\n",
    "             \"Pedro\": {\"departamento\": \"Ventas\", \"sueldo\": 1700},\n",
    "             \"Ana\": {\"departamento\": \"Recursos Humanos\", \"sueldo\": 1900}}\n",
    "```\n",
    "a) Imprime el sueldo de Pedro.  \n",
    "b) Cambia el sueldo de Ana a 2000.  \n",
    "c) Crea un nuevo diccionario con los empleados del departamento de Ventas."
   ]
  },
  {
   "cell_type": "code",
   "execution_count": null,
   "id": "dbed37f4",
   "metadata": {},
   "outputs": [],
   "source": [
    "# Escribe tu solución aquí\n"
   ]
  },
  {
   "cell_type": "markdown",
   "id": "7706badf",
   "metadata": {},
   "source": [
    "### Ejercicio Aplicado 6\n",
    "Dado el siguiente diccionario:\n",
    "```python\n",
    "cursos = {\"Pedro\": [\"Matemáticas\", \"Biología\", \"Historia\"],\n",
    "          \"María\": [\"Física\", \"Química\", \"Literatura\"]}\n",
    "```\n",
    "a) Imprime las materias en las que está inscrito Pedro.  \n",
    "b) Agrega una materia más a la lista de materias de María: 'Programación'.  \n",
    "c) Crea un nuevo diccionario con los estudiantes que están inscritos en la materia de Biología."
   ]
  },
  {
   "cell_type": "code",
   "execution_count": null,
   "id": "6cb4d006",
   "metadata": {},
   "outputs": [],
   "source": [
    "# Escribe tu solución aquí\n"
   ]
  },
  {
   "cell_type": "markdown",
   "id": "f95a0efa",
   "metadata": {},
   "source": [
    "### Ejercicio Aplicado 7\n",
    "Dado el siguiente diccionario:\n",
    "```python\n",
    "productos = {'manzanas': 2.99, 'naranjas': 1.99, 'peras': 3.99, 'uvas': 4.99,\n",
    "             'kiwis': 0.99, 'duraznos': 2.49}\n",
    "stock = {'manzanas': 100, 'naranjas': 50, 'peras': 25, 'uvas': 75, 'kiwis': 200, 'duraznos': 60}\n",
    "```\n",
    "a) Imprime el precio de las naranjas.  \n",
    "b) Cambia el stock de peras a 12.  \n",
    "c) Crea una función que calcule el valor total de los productos en el diccionario."
   ]
  },
  {
   "cell_type": "code",
   "execution_count": null,
   "id": "08363096",
   "metadata": {},
   "outputs": [],
   "source": [
    "# Escribe tu solución aquí\n"
   ]
  }
 ],
 "metadata": {},
 "nbformat": 4,
 "nbformat_minor": 5
}
